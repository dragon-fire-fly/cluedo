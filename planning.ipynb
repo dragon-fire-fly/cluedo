{
 "cells": [
  {
   "cell_type": "markdown",
   "metadata": {},
   "source": [
    "# Cluedo Planning\n",
    "\n",
    "Steps:\n",
    "\n",
    "1. Game board and calculating distances  partly DONE\n",
    "2. Cards, shuffling and dealing          DONE\n",
    "3. Dice roll                             DONE\n",
    "4. Asking players about cards\n",
    "5. Record card (player and AI)\n",
    "6. Guessing\n",
    "7. Start page\n",
    "8. Save/load game? \n",
    "9. Leaderboard?"
   ]
  },
  {
   "cell_type": "markdown",
   "metadata": {},
   "source": [
    "Rules:\n",
    "1. The murderer, murder weapon and murder location have been placed inside the \"murder envelope\"\n",
    "2. Miss Scarlet always goes first, then play moves diagonally.\n",
    "3. Roll the dice or use a secret passage each turn to move from room to room. You may move up, down or sideways, but not diagonally. \n",
    "4. On your turn, if you are in a room, you may question the other suspects about any suspect, any weapon and the location you are currently at. \n",
    "5. Starting with the player to your left, if that player has one of the three suggested cards, they must show you one. If they don't have any cards, they player to their left is questioned next, and so on.\n",
    "6. Once you feel certain that you know the murderer, murder weapon and room, you may make an accusation. You may only make one accusation per game."
   ]
  },
  {
   "cell_type": "markdown",
   "metadata": {},
   "source": [
    "OOP potential objects:\n",
    "- Game board\n",
    "- Player(s)/ player piece(s)\n",
    "- Cards\n",
    "- Dice\n",
    "- Scorecard/ tracker"
   ]
  },
  {
   "cell_type": "markdown",
   "metadata": {},
   "source": [
    "## Gameboard\n",
    "- Should be a 7 x 7 2D matrix with 9 rooms as so:\n",
    "- This could be a matrix of 7 lists/tuples, each with 7 items\n",
    "- Need to calculate the distance to each room from current room."
   ]
  },
  {
   "cell_type": "markdown",
   "metadata": {},
   "source": [
    "![Cluedo board](game_board_layout.png)"
   ]
  },
  {
   "cell_type": "code",
   "execution_count": 2,
   "metadata": {},
   "outputs": [
    {
     "name": "stdout",
     "output_type": "stream",
     "text": [
      "(('x', '.', '.', 'x', '.', '.', 'x'), ('.', '.', '.', '.', '.', '.', '.'), ('.', '.', '.', '.', '.', '.', 'x'), ('x', '.', '.', '.', '.', '.', '.'), ('.', '.', '.', '.', '.', '.', 'x'), ('.', '.', '.', '.', '.', '.', '.'), ('x', '.', '.', 'x', '.', '.', 'x'))\n"
     ]
    }
   ],
   "source": [
    "# Game Board\n",
    "# Potential matrix\n",
    "game_board = (\n",
    "('x', '.', '.', 'x', '.', '.', 'x'),\n",
    "('.', '.', '.', '.', '.', '.', '.'),\n",
    "('.', '.', '.', '.', '.', '.', 'x'),\n",
    "('x', '.', '.', '.', '.', '.', '.'),\n",
    "('.', '.', '.', '.', '.', '.', 'x'),\n",
    "('.', '.', '.', '.', '.', '.', '.'),\n",
    "('x', '.', '.', 'x', '.', '.', 'x')\n",
    ")\n",
    "\n",
    "print(game_board)"
   ]
  },
  {
   "cell_type": "code",
   "execution_count": null,
   "metadata": {},
   "outputs": [],
   "source": [
    "# Tuples of tuples of tuples..... ?\n",
    "# (#, ##) where # is the row and ## is the column\n",
    "game_board = (\n",
    "((1,1), (1,2), (1,3), (1,4), (1,5), (1,6), (1,7)),\n",
    "((2,1), (2,2), (2,3), (2,4), (2,5), (2,6), (2,7)),\n",
    "((3,1), (3,2), (3,3), (3,4), (3,5), (3,6), (3,7)),\n",
    "((4,1), (4,2), (4,3), (4,4), (4,5), (4,6), (4,7)),\n",
    "((5,1), (5,2), (5,3), (5,4), (5,5), (5,6), (5,7)),\n",
    "((6,1), (6,2), (6,3), (6,4), (6,5), (6,6), (6,7)),\n",
    "((7,1), (7,2), (7,3), (7,4), (7,5), (7,6), (7,7))\n",
    ")\n",
    "\n",
    "print(game_board[0])"
   ]
  },
  {
   "cell_type": "code",
   "execution_count": null,
   "metadata": {},
   "outputs": [],
   "source": [
    "# Room Locations on board\n",
    "room_dict = {\n",
    "    \"Kitchen\": (1,1),\n",
    "    \"Ball Room\": (1,4),\n",
    "    \"Conservatory\": (1,7),\n",
    "    \"Billiard Room\": (3,7),\n",
    "    \"Dining Room\": (4,1),\n",
    "    \"Library\": (5,7),\n",
    "    \"Lounge\": (7,1),\n",
    "    \"Main Hall\": (7,4),\n",
    "    \"Study\": (7,7),\n",
    "}"
   ]
  },
  {
   "cell_type": "markdown",
   "metadata": {},
   "source": [
    "Need to shuffle each list of cards and take one at random for the murder envelope.\n",
    "Then mix remaining cards together and deal them out to each of the suspects."
   ]
  },
  {
   "cell_type": "code",
   "execution_count": null,
   "metadata": {},
   "outputs": [],
   "source": [
    "cards = [\n",
    "    [\"Colonel Mustard\",\n",
    "    \"Professor Plum\", \n",
    "    \"Reverend Green\", \n",
    "    \"Mrs. Peacock\", \n",
    "    \"Mrs. White\", \n",
    "    \"Miss Scarlett\"],\n",
    "    [\"Dagger\", \n",
    "    \"Candlestick\", \n",
    "    \"Revolver\", \n",
    "    \"Rope\", \n",
    "    \"Lead piping\", \n",
    "    \"Spanner\"], \n",
    "    [\"Main Hall\", \n",
    "    \"Study\",\n",
    "    \"Billiard Room\", \n",
    "    \"Lounge\", \n",
    "    \"Library\",\n",
    "    \"Kitchen\",\n",
    "    \"Ball Room\",\n",
    "    \"Conservatory\",\n",
    "    \"Dining Room\",\n",
    "    ]]"
   ]
  },
  {
   "cell_type": "code",
   "execution_count": null,
   "metadata": {},
   "outputs": [],
   "source": [
    "suspects = {\n",
    "    1: \"Miss Scarlett\",\n",
    "    2: \"Colonel Mustard\", \n",
    "    3: \"Mrs. White\",\n",
    "    4: \"Reverend Green\", \n",
    "    5: \"Mrs. Peacock\", \n",
    "    6: \"Professor Plum\", \n",
    "    }\n",
    "weapons = {\n",
    "    1: \"Dagger\", \n",
    "    2: \"Candlestick\", \n",
    "    3: \"Revolver\", \n",
    "    4: \"Rope\", \n",
    "    5: \"Lead piping\", \n",
    "    6: \"Spanner\"\n",
    "    }\n",
    "rooms = {\n",
    "    1: \"Kitchen\",\n",
    "    2: \"Ball Room\",\n",
    "    3: \"Conservatory\",\n",
    "    4: \"Dining Room\",\n",
    "    5: \"Billiard Room\", \n",
    "    6: \"Library\", \n",
    "    7: \"Lounge\", \n",
    "    8: \"Hall\",\n",
    "    9: \"Study\"\n",
    "    }"
   ]
  },
  {
   "cell_type": "markdown",
   "metadata": {},
   "source": [
    "# Card Shuffling and dealing\n",
    "- The three decks must be independaently shuffled, then the \"top\" card of each deck selected and placed indie the \"murder envelope\".\n",
    "- The remaining cards should be shuffled together, regardless of type, then dealt out between the remaining players."
   ]
  },
  {
   "cell_type": "code",
   "execution_count": 1,
   "metadata": {},
   "outputs": [
    {
     "name": "stdout",
     "output_type": "stream",
     "text": [
      "['Mrs. Peacock', 'Miss Scarlett', 'Colonel Mustard', 'Reverend Green', 'Mrs. White', 'Professor Plum']\n",
      "['Rope', 'Lead piping', 'Spanner', 'Candlestick', 'Revolver', 'Dagger']\n",
      "['Ball Room', 'Main Hall', 'Conservatory', 'Kitchen', 'Lounge', 'Library', 'Study', 'Dining Room', 'Billiard Room']\n",
      "('Professor Plum', 'Dagger', 'Billiard Room')\n",
      "[['Mrs. Peacock', 'Miss Scarlett', 'Colonel Mustard', 'Reverend Green', 'Mrs. White'], ['Rope', 'Lead piping', 'Spanner', 'Candlestick', 'Revolver'], ['Ball Room', 'Main Hall', 'Conservatory', 'Kitchen', 'Lounge', 'Library', 'Study', 'Dining Room']]\n",
      "['Ball Room', 'Colonel Mustard', 'Dining Room', 'Mrs. White', 'Kitchen', 'Mrs. Peacock', 'Main Hall', 'Lounge', 'Conservatory', 'Lead piping', 'Library', 'Spanner', 'Revolver', 'Candlestick', 'Reverend Green', 'Rope', 'Study', 'Miss Scarlett']\n",
      "{'Miss Scarlett': ['Miss Scarlett', 'Spanner', 'Mrs. Peacock'], 'Colonel Mustard': ['Study', 'Library', 'Kitchen'], 'Mrs. White': ['Rope', 'Lead piping', 'Mrs. White'], 'Reverend Green': ['Reverend Green', 'Conservatory', 'Dining Room'], 'Mrs. Peacock': ['Candlestick', 'Lounge', 'Colonel Mustard'], 'Professor Plum': ['Revolver', 'Main Hall', 'Ball Room']}\n"
     ]
    }
   ],
   "source": [
    "# Shuffling function\n",
    "import random\n",
    "cards = [\n",
    "    [\"Colonel Mustard\",\n",
    "    \"Professor Plum\", \n",
    "    \"Reverend Green\", \n",
    "    \"Mrs. Peacock\", \n",
    "    \"Mrs. White\", \n",
    "    \"Miss Scarlett\"],\n",
    "    [\"Dagger\", \n",
    "    \"Candlestick\", \n",
    "    \"Revolver\", \n",
    "    \"Rope\", \n",
    "    \"Lead piping\", \n",
    "    \"Spanner\"], \n",
    "    [\"Main Hall\", \n",
    "    \"Study\",\n",
    "    \"Billiard Room\", \n",
    "    \"Lounge\", \n",
    "    \"Library\",\n",
    "    \"Kitchen\",\n",
    "    \"Ball Room\",\n",
    "    \"Conservatory\",\n",
    "    \"Dining Room\",\n",
    "    ]]\n",
    "\n",
    "def shuffle_cards(card_deck):\n",
    "    random.shuffle(card_deck)\n",
    "    return card_deck\n",
    "\n",
    "print(shuffle_cards(cards[0]))\n",
    "print(shuffle_cards(cards[1]))\n",
    "print(shuffle_cards(cards[2]))\n",
    "\n",
    "murder_envelope = cards[0].pop(), cards[1].pop(), cards[2].pop()\n",
    "print(murder_envelope)\n",
    "print(cards)\n",
    "\n",
    "remaining_cards = []\n",
    "for i in range(3):\n",
    "    for card in cards[i]:\n",
    "        remaining_cards.append(card)\n",
    "\n",
    "print(shuffle_cards(remaining_cards))\n",
    "\n",
    "## Dealing function\n",
    "\n",
    "def deal_cards(suspects, cards):\n",
    "    while cards:\n",
    "        for key in suspects.keys():\n",
    "            random_card = cards.pop()\n",
    "            suspects[key].append(random_card)\n",
    "    return suspects\n",
    "\n",
    "dealt_cards = {\n",
    "    \"Miss Scarlett\": [],\n",
    "    \"Colonel Mustard\": [], \n",
    "    \"Mrs. White\": [],\n",
    "    \"Reverend Green\": [], \n",
    "    \"Mrs. Peacock\": [], \n",
    "    \"Professor Plum\": [], \n",
    "    }\n",
    "\n",
    "print(deal_cards(dealt_cards, remaining_cards))"
   ]
  },
  {
   "cell_type": "markdown",
   "metadata": {},
   "source": [
    "# Classes (?)\n",
    "\n",
    "## Board class\n",
    "- room locations\n",
    "- suspect starting locations\n",
    "- calculate_distances() function\n",
    "- room distance from suspect\n",
    "- investigate() function (?)\n",
    "\n",
    "## Cards class\n",
    "- shuffle_cards() function\n",
    "- deal() function\n"
   ]
  },
  {
   "cell_type": "markdown",
   "metadata": {},
   "source": [
    "# Investigate function\n",
    "Allows the user to guess a suspect and a weapon (location is decided by players current location)\n",
    "Only allowed to investigate when in a room\n",
    "\n",
    "Reuse which_room() function to determine which room card to investigate\n",
    "Prompt user for name of suspect and weapon (input validation)\n",
    "\n",
    "check the cards of next user on the list and see if they have any of the requested cards. If so, they show one at random\n",
    "\n",
    "Update the score card"
   ]
  },
  {
   "cell_type": "code",
   "execution_count": null,
   "metadata": {},
   "outputs": [],
   "source": [
    "# Investigate function\n",
    "room_dict = {\n",
    "    \"Kitchen\": (1,1),\n",
    "    \"Ball Room\": (1,4),\n",
    "    \"Conservatory\": (1,7),\n",
    "    \"Billiard Room\": (3,7),\n",
    "    \"Dining Room\": (4,1),\n",
    "    \"Library\": (5,7),\n",
    "    \"Lounge\": (7,1),\n",
    "    \"Main Hall\": (7,4),\n",
    "    \"Study\": (7,7),\n",
    "} \n",
    "player_location = (4,1)\n",
    "\n",
    "# use the which_room() function to determine if a player is in a room ,\n",
    "# (and which room)\n",
    "\n"
   ]
  },
  {
   "cell_type": "code",
   "execution_count": 11,
   "metadata": {},
   "outputs": [
    {
     "name": "stdout",
     "output_type": "stream",
     "text": [
      "-------------  -------------  -----------  ---------  ---------  -----------  ---------\n",
      "               Miss Scarlett  Col Mustard  Mrs White  Rev Green  Mrs Peacock  Prof Plum\n",
      "Miss Scarlett\n",
      "Col Mustard\n",
      "Mrs White\n",
      "Rev Green\n",
      "Mrs Peacock\n",
      "Prof Plum\n",
      "-------------  -------------  -----------  ---------  ---------  -----------  ---------\n",
      "-----------  -------------  -----------  ---------  ---------  -----------  ---------\n",
      "             Miss Scarlett  Col Mustard  Mrs White  Rev Green  Mrs Peacock  Prof Plum\n",
      "Rope\n",
      "Lead piping\n",
      "Candlestick\n",
      "Dagger\n",
      "Spanner\n",
      "Revolver\n",
      "-----------  -------------  -----------  ---------  ---------  -----------  ---------\n",
      "-------------  -------------  -----------  ---------  ---------  -----------  ---------\n",
      "               Miss Scarlett  Col Mustard  Mrs White  Rev Green  Mrs Peacock  Prof Plum\n",
      "Main Hall\n",
      "Dining Room\n",
      "Billiard Room\n",
      "Ball Room\n",
      "Library\n",
      "Conservatory\n",
      "Study\n",
      "Lounge\n",
      "Kitchen\n",
      "-------------  -------------  -----------  ---------  ---------  -----------  ---------\n"
     ]
    }
   ],
   "source": [
    "from tabulate import tabulate\n",
    "suspects_table = [[\n",
    "    \" \",\n",
    "    \"Miss Scarlett\",\n",
    "    \"Col Mustard\", \n",
    "    \"Mrs White\", \n",
    "    \"Rev Green\", \n",
    "    \"Mrs Peacock\", \n",
    "    \"Prof Plum\"\n",
    "    ],[\n",
    "        'Miss Scarlett',  ' ',  ' ', ' ', ' ', ' ', ' '\n",
    "    ],[\n",
    "        'Col Mustard',  ' ',  ' ', ' ', ' ', ' ', ' '\n",
    "    ],[\n",
    "        'Mrs White',  ' ',  ' ', ' ', ' ', ' ', ' '\n",
    "    ],[\n",
    "        'Rev Green',  ' ',  ' ', ' ', ' ', ' ', ' '\n",
    "    ],[\n",
    "        'Mrs Peacock',  ' ',  ' ', ' ', ' ', ' ', ' '\n",
    "    ], [\n",
    "        'Prof Plum',  ' ',  ' ', ' ', ' ', ' ', ' '\n",
    "    ]]\n",
    "\n",
    "print(tabulate(suspects_table))\n",
    "\n",
    "weapons_table = [[\n",
    "    \" \",\n",
    "    \"Miss Scarlett\",\n",
    "    \"Col Mustard\", \n",
    "    \"Mrs White\", \n",
    "    \"Rev Green\", \n",
    "    \"Mrs Peacock\", \n",
    "    \"Prof Plum\"\n",
    "    ],[\n",
    "        'Rope',  ' ',  ' ', ' ', ' ', ' ', ' '\n",
    "    ],[\n",
    "        'Lead piping',  ' ',  ' ', ' ', ' ', ' ', ' '\n",
    "    ],[\n",
    "        'Candlestick',  ' ',  ' ', ' ', ' ', ' ', ' '\n",
    "    ],[\n",
    "        'Dagger',  ' ',  ' ', ' ', ' ', ' ', ' '\n",
    "    ],[\n",
    "        'Spanner',  ' ',  ' ', ' ', ' ', ' ', ' '\n",
    "    ], [\n",
    "        'Revolver',  ' ',  ' ', ' ', ' ', ' ', ' '\n",
    "    ]]\n",
    "\n",
    "print(tabulate(weapons_table))\n",
    "\n",
    "room_table = [[\n",
    "    \" \",\n",
    "    \"Miss Scarlett\",\n",
    "    \"Col Mustard\", \n",
    "    \"Mrs White\", \n",
    "    \"Rev Green\", \n",
    "    \"Mrs Peacock\", \n",
    "    \"Prof Plum\"\n",
    "    ],[\n",
    "        'Main Hall',  ' ',  ' ', ' ', ' ', ' ', ' '\n",
    "    ],[\n",
    "        'Dining Room',  ' ',  ' ', ' ', ' ', ' ', ' '\n",
    "    ],[\n",
    "        'Billiard Room',  ' ',  ' ', ' ', ' ', ' ', ' '\n",
    "    ],[\n",
    "        'Ball Room',  ' ',  ' ', ' ', ' ', ' ', ' '\n",
    "    ],[\n",
    "        'Library',  ' ',  ' ', ' ', ' ', ' ', ' '\n",
    "    ], [\n",
    "        'Conservatory',  ' ',  ' ', ' ', ' ', ' ', ' '\n",
    "    ],[\n",
    "        'Study',  ' ',  ' ', ' ', ' ', ' ', ' '\n",
    "    ],[\n",
    "        'Lounge',  ' ',  ' ', ' ', ' ', ' ', ' '\n",
    "    ],[\n",
    "        'Kitchen',  ' ',  ' ', ' ', ' ', ' ', ' '\n",
    "    ]]\n",
    "\n",
    "print(tabulate(room_table))"
   ]
  },
  {
   "cell_type": "markdown",
   "metadata": {},
   "source": [
    "# Investigate phase\n",
    "## Investigation/accusation\n",
    "If player has rolled the die and is in a room (or chooses to stay in a room or has teleported to another room):\n",
    "- prompt user for their guess\n",
    "- display the list of suspects (1-6) and allow user to choose\n",
    "- display the list of weapons (1-6) and allow user to choose\n",
    "- confirm choice (\"Do you really want to investigate Miss Scarlet with the rope in the kitchen?\")\n",
    "- give choice to change suspect or change weapon\n",
    "\n",
    "## Checking\n",
    "- Starting with the player to the left, check whether that suspect has any of the three cards asked.\n",
    "    (order is: \n",
    "    \"Miss Scarlett\",\n",
    "    \"Col Mustard\", \n",
    "    \"Mrs White\", \n",
    "    \"Rev Green\", \n",
    "    \"Mrs Peacock\", \n",
    "    \"Prof Plum\" )\n",
    "- if one or more cards are present, create a list of cards and return one at random (or always pop the first or last card?)\n",
    "- if no cards are present, the check moves to the next player on the list. Repeat the check, list and random card return until all players have been asked.\n",
    "- if a card is returned, add it to the investigation card under the name of the suspect who showed it\n",
    "- if no players have the requested cards, returns a message to the user saying so\n"
   ]
  },
  {
   "cell_type": "code",
   "execution_count": 2,
   "metadata": {},
   "outputs": [
    {
     "name": "stdout",
     "output_type": "stream",
     "text": [
      "You are in the ____ Room\n",
      "1\n"
     ]
    }
   ],
   "source": [
    "print(\"You are in the ____ Room\")\n",
    "turn_choice = input(\"What would you like to do? 1) Move to another room\\n2) Investigate\\n3) Save and return to main menu\")\n",
    "print(turn_choice)\n",
    "\n",
    "if turn_choice == \"1\" or turn_choice.lower() == \"move\":\n",
    "    pass\n",
    "        # \n",
    "    # roll_dice()\n",
    "elif turn_choice == \"2\" or turn_choice.lower() == \"investigate\":\n",
    "    pass\n",
    "    # investigate()\n",
    "elif turn_choice == \"3\" or turn_choice.lower() == \"save\":\n",
    "    pass\n",
    "    # save()\n"
   ]
  }
 ],
 "metadata": {
  "kernelspec": {
   "display_name": "Python 3.8.10 64-bit",
   "language": "python",
   "name": "python3"
  },
  "language_info": {
   "codemirror_mode": {
    "name": "ipython",
    "version": 3
   },
   "file_extension": ".py",
   "mimetype": "text/x-python",
   "name": "python",
   "nbconvert_exporter": "python",
   "pygments_lexer": "ipython3",
   "version": "3.8.10"
  },
  "orig_nbformat": 4,
  "vscode": {
   "interpreter": {
    "hash": "916dbcbb3f70747c44a77c7bcd40155683ae19c65e1c03b4aa3499c5328201f1"
   }
  }
 },
 "nbformat": 4,
 "nbformat_minor": 2
}
